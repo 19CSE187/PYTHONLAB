{
  "nbformat": 4,
  "nbformat_minor": 0,
  "metadata": {
    "colab": {
      "name": "PYTHONLAB2.ipynb",
      "provenance": [],
      "authorship_tag": "ABX9TyPdJz+WplBOH/jGmXC9Ye8m",
      "include_colab_link": true
    },
    "kernelspec": {
      "name": "python3",
      "display_name": "Python 3"
    }
  },
  "cells": [
    {
      "cell_type": "markdown",
      "metadata": {
        "id": "view-in-github",
        "colab_type": "text"
      },
      "source": [
        "<a href=\"https://colab.research.google.com/github/19CSE187/PYTHONLAB/blob/main/PYTHONLAB2.ipynb\" target=\"_parent\"><img src=\"https://colab.research.google.com/assets/colab-badge.svg\" alt=\"Open In Colab\"/></a>"
      ]
    },
    {
      "cell_type": "markdown",
      "metadata": {
        "id": "7ny5sNVLeZcL"
      },
      "source": [
        "# **Display simple interest and coumpound interest**"
      ]
    },
    {
      "cell_type": "code",
      "metadata": {
        "colab": {
          "base_uri": "https://localhost:8080/"
        },
        "id": "IyprzIw8cixS",
        "outputId": "63a28794-736f-46e7-d4d5-250c0b888b62"
      },
      "source": [
        "p = int(input(\"Enter the principal amount \"))\r\n",
        "r = int(input(\"Enter the rate of interest \"))\r\n",
        "t = int(input(\"Enter the time \"))\r\n",
        "si = (p*t*r)/100\r\n",
        "print(\"Simple interest is\",si)\r\n"
      ],
      "execution_count": 3,
      "outputs": [
        {
          "output_type": "stream",
          "text": [
            "Enter the principal amount 10000\n",
            "Enter the rate of interest 10\n",
            "Enter the time 12\n",
            "Simple interest is 12000.0\n"
          ],
          "name": "stdout"
        }
      ]
    },
    {
      "cell_type": "markdown",
      "metadata": {
        "id": "EuvT8KXvezvL"
      },
      "source": [
        "# **WAP to input 1st name, mid name and last name into three variables and then apply concatination**"
      ]
    },
    {
      "cell_type": "code",
      "metadata": {
        "colab": {
          "base_uri": "https://localhost:8080/"
        },
        "id": "_LVGFbh_eywH",
        "outputId": "84677c28-4cec-4f14-b268-116495b088f5"
      },
      "source": [
        "fst = input(\"Enter 1st name \")\r\n",
        "mid = input(\"Enter mid name \")\r\n",
        "lst = input(\"Enter last name \")\r\n",
        "print(\"Your full name is\",fst+\" \"+mid+\" \"+lst)"
      ],
      "execution_count": 2,
      "outputs": [
        {
          "output_type": "stream",
          "text": [
            "Enter 1st name abc\n",
            "Enter mid name get\n",
            "Enter last name jhi\n",
            "Your full name is abc get jhi\n"
          ],
          "name": "stdout"
        }
      ]
    },
    {
      "cell_type": "markdown",
      "metadata": {
        "id": "Dvr29TungD68"
      },
      "source": [
        "# **WAP to create a table and display the elements of it**"
      ]
    },
    {
      "cell_type": "code",
      "metadata": {
        "colab": {
          "base_uri": "https://localhost:8080/"
        },
        "id": "SQ-boywWf126",
        "outputId": "559e8e60-8638-45c2-fee8-585f9b65982f"
      },
      "source": [
        "tu = (\"1\", \"2\", \"3\", \"4\")\r\n",
        "print(tu)"
      ],
      "execution_count": 12,
      "outputs": [
        {
          "output_type": "stream",
          "text": [
            "('1', '2', '3', '4')\n"
          ],
          "name": "stdout"
        }
      ]
    },
    {
      "cell_type": "markdown",
      "metadata": {
        "id": "pBSIx39VgoUx"
      },
      "source": [
        "# **WAP to implement type conversion on different datatype**"
      ]
    },
    {
      "cell_type": "code",
      "metadata": {
        "colab": {
          "base_uri": "https://localhost:8080/"
        },
        "id": "yfKbrohagntZ",
        "outputId": "068c28ff-59fe-46ce-fb7b-e9dfe4d47a49"
      },
      "source": [
        "n = input(\"Enter a number \")\r\n",
        "s = input(\"Enter a string \")\r\n",
        "print(str(n)+\" its multiplication with 5 is \",int(n)*5)\r\n",
        "print(\"2x of String is\",s*2)"
      ],
      "execution_count": 8,
      "outputs": [
        {
          "output_type": "stream",
          "text": [
            "Enter a number 4\n",
            "Enter a string d\n",
            "4 its multiplication with 5 is  20\n",
            "2x of String is dd\n"
          ],
          "name": "stdout"
        }
      ]
    },
    {
      "cell_type": "markdown",
      "metadata": {
        "id": "DvukemUoh0I9"
      },
      "source": [
        "# **Find the distance of 2 points using pythogorean theorem. Where the coordinates of two points given input**"
      ]
    },
    {
      "cell_type": "code",
      "metadata": {
        "colab": {
          "base_uri": "https://localhost:8080/"
        },
        "id": "IoS0Mhp5hzeu",
        "outputId": "8349c3db-6453-4cfe-8271-920bb3edbdc4"
      },
      "source": [
        "import math\r\n",
        "x1 = int(input(\"Enter x1 coordinate \"))\r\n",
        "y1 = int(input(\"Enter y1 coordinate \"))\r\n",
        "x2 = int(input(\"Enter x2 coordinate \"))\r\n",
        "y2 = int(input(\"Enter y2 coordinate \"))\r\n",
        "d = math.sqrt((x2-x1)**2 + (y2-y1)**2)\r\n",
        "print(\"Distance is\",d)"
      ],
      "execution_count": 11,
      "outputs": [
        {
          "output_type": "stream",
          "text": [
            "Enter x1 coordinate4\n",
            "Enter y1 coordinate5\n",
            "Enter x2 coordinate6\n",
            "Enter y2 coordinate7\n",
            "Distance is 2.8284271247461903\n"
          ],
          "name": "stdout"
        }
      ]
    }
  ]
}