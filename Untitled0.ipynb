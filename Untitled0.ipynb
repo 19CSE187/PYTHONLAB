{
  "nbformat": 4,
  "nbformat_minor": 0,
  "metadata": {
    "colab": {
      "name": "Untitled0.ipynb",
      "provenance": [],
      "authorship_tag": "ABX9TyNALwFInVU+QDQZ8QwBFONh",
      "include_colab_link": true
    },
    "kernelspec": {
      "name": "python3",
      "display_name": "Python 3"
    }
  },
  "cells": [
    {
      "cell_type": "markdown",
      "metadata": {
        "id": "view-in-github",
        "colab_type": "text"
      },
      "source": [
        "<a href=\"https://colab.research.google.com/github/19CSE187/PYTHONLAB/blob/main/Untitled0.ipynb\" target=\"_parent\"><img src=\"https://colab.research.google.com/assets/colab-badge.svg\" alt=\"Open In Colab\"/></a>"
      ]
    },
    {
      "cell_type": "markdown",
      "metadata": {
        "id": "fFHgjd58mJ-a"
      },
      "source": [
        "# **WAP to input your name , age and address and print them**"
      ]
    },
    {
      "cell_type": "code",
      "metadata": {
        "id": "dKbdHxanZL4z",
        "colab": {
          "base_uri": "https://localhost:8080/"
        },
        "outputId": "8ddd5e72-0d73-426c-998e-69ea46eb9f15"
      },
      "source": [
        "name = input(\"Enter Name\")\r\n",
        "age = input(\"Enter Age\")\r\n",
        "address = input(\"Enter Address\")\r\n",
        "print(\"Your Name is \"+name+\" and Age is \"+age+\" and your address is \"+address)"
      ],
      "execution_count": 2,
      "outputs": [
        {
          "output_type": "stream",
          "text": [
            "Enter Nameagjvcb\n",
            "Enter Ageabhch\n",
            "Enter Addressbckb\n",
            "Your Name is agjvcb and Age is abhch and your address is bckb\n"
          ],
          "name": "stdout"
        }
      ]
    },
    {
      "cell_type": "markdown",
      "metadata": {
        "id": "sE3To-ccmXZA"
      },
      "source": [
        "# **WAp to input your marks for three subject then find the sum and percentage**"
      ]
    },
    {
      "cell_type": "code",
      "metadata": {
        "colab": {
          "base_uri": "https://localhost:8080/"
        },
        "id": "vo9nV8eEkEnq",
        "outputId": "a8a12511-0ebb-4b51-bb20-3338c76dfd17"
      },
      "source": [
        "sub1 = int(input(\"Enter marks for SUBJECT1\"))\r\n",
        "sub2 = int(input(\"Enter marks for SUBJECT2\"))\r\n",
        "sub3 = int(input(\"Enter marks for SUBJECT3\"))\r\n",
        "print(\"Total mark is \",sub1+sub2+sub3)\r\n",
        "print(\"Percentage is \",((sub1+sub2+sub3)/300)*10011)"
      ],
      "execution_count": 13,
      "outputs": [
        {
          "output_type": "stream",
          "text": [
            "Enter marks for SUBJECT1100\n",
            "Enter marks for SUBJECT2100\n",
            "Enter marks for SUBJECT3100\n",
            "Total mark is  300\n",
            "Percentage is  100.0\n"
          ],
          "name": "stdout"
        }
      ]
    },
    {
      "cell_type": "markdown",
      "metadata": {
        "id": "__tYx5FUmjMG"
      },
      "source": [
        "# **WAP to find the area of circle**"
      ]
    },
    {
      "cell_type": "code",
      "metadata": {
        "colab": {
          "base_uri": "https://localhost:8080/"
        },
        "id": "YDur1lsVeEeE",
        "outputId": "d8362f0b-fd6f-4633-e1f8-61cf66d7adae"
      },
      "source": [
        "r = int(input(\"Enter the radius of the circle\"))\r\n",
        "print(\"Area of Circle is \",(3.1415*r*r))"
      ],
      "execution_count": 3,
      "outputs": [
        {
          "output_type": "stream",
          "text": [
            "Enter the radius of the circle20\n",
            "Area of Circle is  1256.6000000000001\n"
          ],
          "name": "stdout"
        }
      ]
    },
    {
      "cell_type": "markdown",
      "metadata": {
        "id": "Yonyij4wmpwW"
      },
      "source": [
        "# **WAP to find the area and peremeter of a triangle**"
      ]
    },
    {
      "cell_type": "code",
      "metadata": {
        "id": "ctae-1tIewER"
      },
      "source": [
        "h = int(input(\"Enter base hight\"))\r\n",
        "b = int(input(\"Enter the base\"))\r\n",
        "print(\"Area of triange is \",(b*h)/2)\r\n",
        "print(\"Peremeter of triange is \",(b*h)/2)\r\n"
      ],
      "execution_count": null,
      "outputs": []
    },
    {
      "cell_type": "markdown",
      "metadata": {
        "id": "aiR-Tr7_nYc8"
      },
      "source": [
        "# **WAP to find the volume of a sphere**"
      ]
    },
    {
      "cell_type": "code",
      "metadata": {
        "colab": {
          "base_uri": "https://localhost:8080/"
        },
        "id": "8HoKcbilgQmc",
        "outputId": "ad8c5c3c-3192-490e-8649-7d15c7b500bb"
      },
      "source": [
        "r = int(input(\"Enter radius of sphere\"))\r\n",
        "print(\"Volume of Sphere is \",(4/3)*3.14*r*r*r)"
      ],
      "execution_count": 4,
      "outputs": [
        {
          "output_type": "stream",
          "text": [
            "Enter radius of sphere2\n",
            "Volume of Sphere is  33.49333333333333\n"
          ],
          "name": "stdout"
        }
      ]
    },
    {
      "cell_type": "markdown",
      "metadata": {
        "id": "MeV5PWNingws"
      },
      "source": [
        "# **WAP to create a list by initilizing with 5 different fruits names and display them**"
      ]
    },
    {
      "cell_type": "code",
      "metadata": {
        "colab": {
          "base_uri": "https://localhost:8080/"
        },
        "id": "qihf_RonhLsz",
        "outputId": "acbb7815-d18a-4bed-ef4a-f6ce0e39233d"
      },
      "source": [
        "l = [\"APPLE\", \"ORANGE\", \"GRAPES\", \"BANANA\", \"STRWBERRY\"]\r\n",
        "print(l)"
      ],
      "execution_count": 7,
      "outputs": [
        {
          "output_type": "stream",
          "text": [
            "['APPLE', 'ORANGE', 'GRAPES', 'BANANA', '']\n"
          ],
          "name": "stdout"
        }
      ]
    },
    {
      "cell_type": "markdown",
      "metadata": {
        "id": "ajNLgNIenskL"
      },
      "source": [
        "# **WAP to input a string and display its reverse**"
      ]
    },
    {
      "cell_type": "code",
      "metadata": {
        "colab": {
          "base_uri": "https://localhost:8080/"
        },
        "id": "IXAiFrYkhtgw",
        "outputId": "856c4b41-a158-4e62-f5be-32db7dd26978"
      },
      "source": [
        "s = input(\"Enter a String\")\r\n",
        "print(s[::-1])"
      ],
      "execution_count": 10,
      "outputs": [
        {
          "output_type": "stream",
          "text": [
            "Enter a Stringstring\n",
            "gnirts\n"
          ],
          "name": "stdout"
        }
      ]
    }
  ]
}